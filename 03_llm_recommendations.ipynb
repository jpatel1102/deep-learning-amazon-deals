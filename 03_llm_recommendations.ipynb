{
 "cells": [
  {
   "cell_type": "code",
   "source": [
    "from transformers import pipeline\n",
    "import pandas as pd\n",
    "\n",
    "df = pd.read_csv(\"../data/cleaned_deals.csv\")\n",
    "df = df.sort_values(by=\"Drop Percentage\", ascending=False)\n",
    "\n",
    "top_deals = df.head(5)\n",
    "\n",
    "summarizer = pipeline(\"summarization\", model=\"sshleifer/distilbart-cnn-12-6\")\n",
    "\n",
    "for idx, row in top_deals.iterrows():\n",
    "    prompt = f\"The product {row['Title']} by {row['Brand']} is now at ${row['Current Price']} with {row['Drop Percentage']}% discount. It has {row['Reviews']} reviews and {row['Rating']} stars. Should a customer buy it?\"\n",
    "    summary = summarizer(prompt, max_length=60, min_length=20, do_sample=False)\n",
    "    print(summary[0]['summary_text'])"
   ]
  }
 ],
 "metadata": {},
 "nbformat": 4,
 "nbformat_minor": 2
}
