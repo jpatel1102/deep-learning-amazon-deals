{
 "cells": [
  {
   "cell_type": "code",
   "source": [
    "import requests\n",
    "import json\n",
    "import pandas as pd\n",
    "import time\n",
    "\n",
    "API_KEY = 'YOUR_KEEPA_API_KEY'  # replace this securely\n",
    "CATEGORY = 1055398  # Home/Electronics\n",
    "DOMAIN = 1\n",
    "\n",
    "def fetch_keepa_deals(api_key, category, domain=1):\n",
    "    url = f\"https://api.keepa.com/deal?key={api_key}&domain={domain}&category={category}&stats=180\"\n",
    "    response = requests.get(url)\n",
    "    return response.json()\n",
    "\n",
    "def parse_deals(deals_json):\n",
    "    products = deals_json.get('deals', [])\n",
    "    parsed_data = []\n",
    "    for product in products:\n",
    "        parsed_data.append({\n",
    "            \"ASIN\": product.get('asin'),\n",
    "            \"Title\": product.get('title', 'N/A'),\n",
    "            \"Brand\": product.get('brand', 'N/A'),\n",
    "            \"Category\": product.get('category', 'N/A'),\n",
    "            \"Current Price\": product.get('currentPrice') / 100 if product.get('currentPrice') else None,\n",
    "            \"List Price\": product.get('listPrice') / 100 if product.get('listPrice') else None,\n",
    "            \"Rating\": product.get('rating', None),\n",
    "            \"Reviews\": product.get('reviewCount', None),\n",
    "            \"Drop Percentage\": product.get('dropPercentage', None),\n",
    "        })\n",
    "    return pd.DataFrame(parsed_data)\n",
    "\n",
    "raw_data = fetch_keepa_deals(API_KEY, CATEGORY)\n",
    "df = parse_deals(raw_data)\n",
    "df.to_csv(\"../data/cleaned_deals.csv\", index=False)\n",
    "print(\"Data saved successfully!\")"
   ]
  }
 ],
 "metadata": {},
 "nbformat": 4,
 "nbformat_minor": 2
}
